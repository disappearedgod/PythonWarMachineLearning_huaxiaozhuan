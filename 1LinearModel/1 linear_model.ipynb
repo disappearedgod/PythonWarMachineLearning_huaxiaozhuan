{
 "cells": [
  {
   "cell_type": "markdown",
   "metadata": {},
   "source": [
    "# 线性模型"
   ]
  },
  {
   "cell_type": "code",
   "execution_count": 1,
   "metadata": {},
   "outputs": [
    {
     "name": "stderr",
     "output_type": "stream",
     "text": [
      "C:\\ProgramData\\Anaconda3\\envs\\python3\\lib\\site-packages\\sklearn\\cross_validation.py:44: DeprecationWarning: This module was deprecated in version 0.18 in favor of the model_selection module into which all the refactored classes and functions are moved. Also note that the interface of the new CV iterators are different from that of this module. This module will be removed in 0.20.\n",
      "  \"This module will be removed in 0.20.\", DeprecationWarning)\n"
     ]
    }
   ],
   "source": [
    "import matplotlib.pyplot as plt\n",
    "import numpy as np\n",
    "from sklearn import  datasets,linear_model,discriminant_analysis, cross_validation"
   ]
  },
  {
   "cell_type": "code",
   "execution_count": 2,
   "metadata": {
    "collapsed": true
   },
   "outputs": [],
   "source": [
    "def load_data():\n",
    "    diabetes = datasets.load_diabetes()\n",
    "    return cross_validation.train_test_split(diabetes.data,diabetes.target,test_size=0.25,random_state=0)"
   ]
  },
  {
   "cell_type": "code",
   "execution_count": 3,
   "metadata": {
    "collapsed": true
   },
   "outputs": [],
   "source": [
    "X_train,X_test,y_train,y_test =load_data()"
   ]
  },
  {
   "cell_type": "markdown",
   "metadata": {},
   "source": [
    "# 1、线性回归模型"
   ]
  },
  {
   "cell_type": "code",
   "execution_count": 4,
   "metadata": {},
   "outputs": [
    {
     "name": "stdout",
     "output_type": "stream",
     "text": [
      "线性回归模型：linear_model.LinearRegression\n",
      "Coefficients:[ -43.26774487 -208.67053951  593.39797213  302.89814903 -560.27689824\n",
      "  261.47657106   -8.83343952  135.93715156  703.22658427   28.34844354]\n",
      "Intercept ：153.07\n",
      "Residual sum of squares: 3180.20\n",
      "Score :0.36\n"
     ]
    }
   ],
   "source": [
    "print(\"线性回归模型：linear_model.LinearRegression\")\n",
    "regr = linear_model.LinearRegression()\n",
    "regr.fit(X_train,y_train)\n",
    "print('Coefficients:%s'% (regr.coef_))\n",
    "print(\"Intercept ：%.2f\"% regr.intercept_)\n",
    "print(\"Residual sum of squares: %.2f\" % np.mean((regr.predict(X_test) - y_test)**2))\n",
    "print(\"Score :%.2f\" %regr.score(X_test,y_test))"
   ]
  },
  {
   "cell_type": "markdown",
   "metadata": {},
   "source": [
    "# 2、线性回归模型的正则化\n",
    "## 2.1、岭回归（RIdge Regression）"
   ]
  },
  {
   "cell_type": "code",
   "execution_count": 5,
   "metadata": {},
   "outputs": [
    {
     "name": "stdout",
     "output_type": "stream",
     "text": [
      "Coefficients:[  21.19927911  -60.47711393  302.87575204  179.41206395    8.90911449\n",
      "  -28.8080548  -149.30722541  112.67185758  250.53760873   99.57749017]\n",
      "Intercept ：152.45\n",
      "Residual sum of squares: 3192.33\n",
      "Score :0.36\n"
     ]
    }
   ],
   "source": [
    "regr = linear_model.Ridge()\n",
    "regr.fit(X_train,y_train)\n",
    "print('Coefficients:%s'% (regr.coef_))\n",
    "print(\"Intercept ：%.2f\"% regr.intercept_)\n",
    "print(\"Residual sum of squares: %.2f\" % np.mean((regr.predict(X_test) - y_test)**2))\n",
    "print(\"Score :%.2f\" %regr.score(X_test,y_test))"
   ]
  },
  {
   "cell_type": "markdown",
   "metadata": {},
   "source": [
    "## 2.2 Lasso回归"
   ]
  },
  {
   "cell_type": "code",
   "execution_count": 6,
   "metadata": {},
   "outputs": [
    {
     "name": "stdout",
     "output_type": "stream",
     "text": [
      "Coefficients:[   0.           -0.          442.67992538    0.            0.            0.\n",
      "   -0.            0.          330.76014648    0.        ]\n",
      "Intercept ：152.52\n",
      "Residual sum of squares: 3583.42\n",
      "Score :0.28\n"
     ]
    }
   ],
   "source": [
    "regr = linear_model.Lasso()\n",
    "regr.fit(X_train,y_train)\n",
    "print('Coefficients:%s'% (regr.coef_))\n",
    "print(\"Intercept ：%.2f\"% regr.intercept_)\n",
    "print(\"Residual sum of squares: %.2f\" % np.mean((regr.predict(X_test) - y_test)**2))\n",
    "print(\"Score :%.2f\" %regr.score(X_test,y_test))"
   ]
  },
  {
   "cell_type": "markdown",
   "metadata": {},
   "source": [
    "## 2.3 ElasticNet 回归"
   ]
  },
  {
   "cell_type": "code",
   "execution_count": 7,
   "metadata": {},
   "outputs": [
    {
     "name": "stdout",
     "output_type": "stream",
     "text": [
      "Coefficients:[ 0.40560736  0.          3.76542456  2.38531508  0.58677945  0.22891647\n",
      " -2.15858149  2.33867566  3.49846121  1.98299707]\n",
      "Intercept ：151.93\n",
      "Residual sum of squares: 4922.36\n",
      "Score :0.01\n"
     ]
    }
   ],
   "source": [
    "regr = linear_model.ElasticNet()\n",
    "regr.fit(X_train,y_train)\n",
    "print('Coefficients:%s'% (regr.coef_))\n",
    "print(\"Intercept ：%.2f\"% regr.intercept_)\n",
    "print(\"Residual sum of squares: %.2f\" % np.mean((regr.predict(X_test) - y_test)**2))\n",
    "print(\"Score :%.2f\" %regr.score(X_test,y_test))"
   ]
  },
  {
   "cell_type": "markdown",
   "metadata": {},
   "source": [
    "# 3 逻辑回归"
   ]
  },
  {
   "cell_type": "code",
   "execution_count": 13,
   "metadata": {
    "collapsed": true
   },
   "outputs": [],
   "source": [
    "def load_data():\n",
    "    iris = datasets.load_iris()\n",
    "    X_train = iris.data\n",
    "    y_train = iris.target\n",
    "    return cross_validation.train_test_split(X_train,y_train,test_size=0.25,random_state=0,stratify=y_train)\n",
    "X_train,X_test,y_train,y_test =load_data()"
   ]
  },
  {
   "cell_type": "code",
   "execution_count": 9,
   "metadata": {},
   "outputs": [
    {
     "name": "stdout",
     "output_type": "stream",
     "text": [
      "Coefficients:[[ 0.39310895  1.35470406 -2.12308303 -0.96477916]\n",
      " [ 0.22462128 -1.34888898  0.60067997 -1.24122398]\n",
      " [-1.50918214 -1.29436177  2.14150484  2.2961458 ]]\n",
      "Intercept ：[ 0.24122458  1.13775782 -1.09418724]\n",
      "Residual sum of squares: 0.03\n",
      "Score :0.97\n"
     ]
    }
   ],
   "source": [
    "regr = linear_model.LogisticRegression()\n",
    "regr.fit(X_train,y_train)\n",
    "print('Coefficients:%s'% (regr.coef_))\n",
    "print(\"Intercept ：%s\"% regr.intercept_)\n",
    "print(\"Residual sum of squares: %.2f\" % np.mean((regr.predict(X_test) - y_test)**2))\n",
    "print(\"Score :%.2f\" %regr.score(X_test,y_test))"
   ]
  },
  {
   "cell_type": "code",
   "execution_count": 10,
   "metadata": {},
   "outputs": [
    {
     "name": "stdout",
     "output_type": "stream",
     "text": [
      "Coefficients:[[-0.38365872  0.85501328 -2.27224244 -0.98486171]\n",
      " [ 0.34359409 -0.37367647 -0.03043553 -0.86135577]\n",
      " [ 0.04006464 -0.48133681  2.30267797  1.84621747]]\n",
      "Intercept ：[  8.79984878   2.46853199 -11.26838077]\n",
      "Residual sum of squares: 0.00\n",
      "Score :1.00\n"
     ]
    }
   ],
   "source": [
    "regr = linear_model.LogisticRegression(multi_class='multinomial',solver='lbfgs')\n",
    "regr.fit(X_train,y_train)\n",
    "print('Coefficients:%s'% (regr.coef_))\n",
    "print(\"Intercept ：%s\"% regr.intercept_)\n",
    "print(\"Residual sum of squares: %.2f\" % np.mean((regr.predict(X_test) - y_test)**2))\n",
    "print(\"Score :%.2f\" %regr.score(X_test,y_test))"
   ]
  },
  {
   "cell_type": "markdown",
   "metadata": {},
   "source": [
    "# 4、线性判别分析"
   ]
  },
  {
   "cell_type": "code",
   "execution_count": 11,
   "metadata": {},
   "outputs": [
    {
     "name": "stdout",
     "output_type": "stream",
     "text": [
      "Coefficients:[[  6.575853     9.75807593 -14.34026669 -21.39076537]\n",
      " [ -1.98385061  -3.49791089   4.21495042   2.60304299]\n",
      " [ -4.47116022  -6.09542385   9.85886057  18.29330864]]\n",
      "Intercept ：[-15.33097142   0.46730077 -30.53297367]\n",
      "Residual sum of squares: 0.00\n",
      "Score :1.00\n"
     ]
    }
   ],
   "source": [
    "regr = discriminant_analysis.LinearDiscriminantAnalysis()\n",
    "regr.fit(X_train,y_train)\n",
    "print('Coefficients:%s'% (regr.coef_))\n",
    "print(\"Intercept ：%s\"% regr.intercept_)\n",
    "print(\"Residual sum of squares: %.2f\" % np.mean((regr.predict(X_test) - y_test)**2))\n",
    "print(\"Score :%.2f\" %regr.score(X_test,y_test))"
   ]
  }
 ],
 "metadata": {
  "kernelspec": {
   "display_name": "Python 3",
   "language": "python",
   "name": "python3"
  },
  "language_info": {
   "codemirror_mode": {
    "name": "ipython",
    "version": 3
   },
   "file_extension": ".py",
   "mimetype": "text/x-python",
   "name": "python",
   "nbconvert_exporter": "python",
   "pygments_lexer": "ipython3",
   "version": "3.5.3"
  }
 },
 "nbformat": 4,
 "nbformat_minor": 2
}
