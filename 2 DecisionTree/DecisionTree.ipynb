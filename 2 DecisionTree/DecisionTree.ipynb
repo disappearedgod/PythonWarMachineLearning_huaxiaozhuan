{
 "cells": [
  {
   "cell_type": "markdown",
   "metadata": {},
   "source": [
    "# 决策树"
   ]
  },
  {
   "cell_type": "markdown",
   "metadata": {},
   "source": [
    "## 1 回归决策树"
   ]
  },
  {
   "cell_type": "code",
   "execution_count": 165,
   "metadata": {},
   "outputs": [],
   "source": [
    "import numpy as np\n",
    "from sklearn.tree import  DecisionTreeRegressor,DecisionTreeClassifier,export_graphviz\n",
    "from sklearn import cross_validation,datasets\n",
    "import matplotlib.pyplot as plt"
   ]
  },
  {
   "cell_type": "code",
   "execution_count": 166,
   "metadata": {},
   "outputs": [],
   "source": [
    "def creat_data(n):\n",
    "    np.random.seed(0)\n",
    "    X = 5*np.random.rand(n,1)\n",
    "    y = np.sin(X).ravel()\n",
    "    noise_num = (int)(n/5)\n",
    "    y[::5] = 3*(0.5 - np.random.rand(noise_num))\n",
    "    return cross_validation.train_test_split(X,y,test_size=0.25,random_state=1)    "
   ]
  },
  {
   "cell_type": "code",
   "execution_count": 167,
   "metadata": {},
   "outputs": [
    {
     "data": {
      "image/png": "[encoded data removed]",
      "text/plain": [
       "<matplotlib.figure.Figure at 0xa1104e0>"
      ]
     },
     "metadata": {},
     "output_type": "display_data"
    }
   ],
   "source": [
    "X_train,X_test,y_train,y_test =creat_data(100)\n",
    "fig = plt.figure()\n",
    "ax = fig.add_subplot(211)\n",
    "ax.scatter(X_train,y_train)\n",
    "ax = fig.add_subplot(212)\n",
    "ax.scatter(X_test,y_test)\n",
    "plt.show()"
   ]
  },
  {
   "cell_type": "code",
   "execution_count": 168,
   "metadata": {},
   "outputs": [
    {
     "name": "stdout",
     "output_type": "stream",
     "text": [
      "Training Score :0.988300\n",
      "Testing Score :0.531072\n"
     ]
    },
    {
     "data": {
      "image/png": "[encoded data removed]",
      "text/plain": [
       "<matplotlib.figure.Figure at 0xa168c88>"
      ]
     },
     "metadata": {},
     "output_type": "display_data"
    }
   ],
   "source": [
    "regr = DecisionTreeRegressor(max_depth=7)\n",
    "regr.fit(X_train,y_train)\n",
    "yy = regr.predict(X_test)\n",
    "print(\"Training Score :%f\" %regr.score(X_train,y_train))\n",
    "print(\"Testing Score :%f\" %regr.score(X_test,y_test))\n",
    "fig = plt.figure()\n",
    "ax = fig.add_subplot(111)\n",
    "ax.scatter(X_test,y_test)\n",
    "ax.scatter(X_test,yy)\n",
    "plt.show()"
   ]
  },
  {
   "cell_type": "markdown",
   "metadata": {},
   "source": [
    "## 分类决策树"
   ]
  },
  {
   "cell_type": "code",
   "execution_count": 169,
   "metadata": {},
   "outputs": [
    {
     "name": "stdout",
     "output_type": "stream",
     "text": [
      "[0 0 0 0 0 0 0 0 0 0 0 0 0 0 0 0 0 0 0 0 0 0 0 0 0 0 0 0 0 0 0 0 0 0 0 0 0\n",
      " 0 0 0 0 0 0 0 0 0 0 0 0 0 1 1 1 1 1 1 1 1 1 1 1 1 1 1 1 1 1 1 1 1 1 1 1 1\n",
      " 1 1 1 1 1 1 1 1 1 1 1 1 1 1 1 1 1 1 1 1 1 1 1 1 1 1 2 2 2 2 2 2 2 2 2 2 2\n",
      " 2 2 2 2 2 2 2 2 2 2 2 2 2 2 2 2 2 2 2 2 2 2 2 2 2 2 2 2 2 2 2 2 2 2 2 2 2\n",
      " 2 2]\n"
     ]
    }
   ],
   "source": [
    "def load_data():\n",
    "    iris = datasets.load_iris()\n",
    "    X_train = iris.data\n",
    "    y_train = iris.target\n",
    "    print(y_train)\n",
    "    return cross_validation.train_test_split(X_train,y_train,test_size=0.25,random_state=0,stratify=y_train)\n",
    "X_train,X_test,y_train,y_test =load_data()"
   ]
  },
  {
   "cell_type": "code",
   "execution_count": 170,
   "metadata": {},
   "outputs": [
    {
     "name": "stdout",
     "output_type": "stream",
     "text": [
      "Training Score :1.000000\n",
      "Testing Score :0.947368\n"
     ]
    }
   ],
   "source": [
    "clf = DecisionTreeClassifier()\n",
    "clf.fit(X_train,y_train)\n",
    "print(\"Training Score :%f\" %clf.score(X_train,y_train))\n",
    "print(\"Testing Score :%f\" %clf.score(X_test,y_test))\n",
    "export_graphviz(clf,'d:/out')"
   ]
  }
 ],
 "metadata": {
  "kernelspec": {
   "display_name": "Python 3",
   "language": "python",
   "name": "python3"
  },
  "language_info": {
   "codemirror_mode": {
    "name": "ipython",
    "version": 3
   },
   "file_extension": ".py",
   "mimetype": "text/x-python",
   "name": "python",
   "nbconvert_exporter": "python",
   "pygments_lexer": "ipython3",
   "version": "3.5.3"
  }
 },
 "nbformat": 4,
 "nbformat_minor": 2
}
