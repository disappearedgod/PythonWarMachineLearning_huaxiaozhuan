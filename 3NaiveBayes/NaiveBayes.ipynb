{
 "cells": [
  {
   "cell_type": "markdown",
   "metadata": {},
   "source": [
    "# 贝叶斯分类器"
   ]
  },
  {
   "cell_type": "markdown",
   "metadata": {},
   "source": [
    "## 导入包"
   ]
  },
  {
   "cell_type": "code",
   "execution_count": 52,
   "metadata": {},
   "outputs": [],
   "source": [
    "from sklearn import datasets,cross_validation,naive_bayes\n",
    "import numpy as np\n",
    "import matplotlib.pyplot as plt"
   ]
  },
  {
   "cell_type": "markdown",
   "metadata": {},
   "source": [
    "## 导入数据"
   ]
  },
  {
   "cell_type": "code",
   "execution_count": 53,
   "metadata": {},
   "outputs": [],
   "source": [
    "def show_digits():\n",
    "    digits = datasets.load_digits()\n",
    "    fig = plt.figure()\n",
    "    print(\"vector from image 0:\",digits.data[0])\n",
    "    for i in range(25):\n",
    "        ax = fig.add_subplot(5,5,i+1)\n",
    "        ax.imshow(digits.images[i],cmap=plt.cm.gray_r,interpolation=\"nearest\")\n",
    "    plt.show()"
   ]
  },
  {
   "cell_type": "code",
   "execution_count": 54,
   "metadata": {},
   "outputs": [],
   "source": [
    "def load_data():\n",
    "    digits = datasets.load_digits()\n",
    "    return cross_validation.train_test_split(digits.data,digits.target,test_size=0.25,random_state=0)"
   ]
  },
  {
   "cell_type": "markdown",
   "metadata": {},
   "source": [
    "## 1、高斯贝叶斯分类器"
   ]
  },
  {
   "cell_type": "code",
   "execution_count": 55,
   "metadata": {
    "collapsed": true
   },
   "outputs": [],
   "source": [
    "def test_GaussianNB(*data):\n",
    "    X_train,X_test,y_train,y_test=data\n",
    "    cls = naive_bayes.GaussianNB()\n",
    "    cls.fit(X_train,y_train)\n",
    "    print(\"Training Score:%.2f\" % cls.score(X_train,y_train))\n",
    "    print(\"Testing Score:%.2f\" % cls.score(X_test,y_test))"
   ]
  },
  {
   "cell_type": "code",
   "execution_count": 56,
   "metadata": {},
   "outputs": [
    {
     "name": "stdout",
     "output_type": "stream",
     "text": [
      "Training Score:0.86\n",
      "Testing Score:0.83\n"
     ]
    }
   ],
   "source": [
    "X_train,X_test,y_train,y_test=load_data()\n",
    "test_GaussianNB(X_train,X_test,y_train,y_test)"
   ]
  },
  {
   "cell_type": "markdown",
   "metadata": {},
   "source": [
    "## 2、多项式贝叶斯分类器"
   ]
  },
  {
   "cell_type": "code",
   "execution_count": 57,
   "metadata": {
    "collapsed": true
   },
   "outputs": [],
   "source": [
    "def test_MultinomialNB(*data):\n",
    "    X_train,X_test,y_train,y_test=load_data()\n",
    "    cls2 = naive_bayes.MultinomialNB()\n",
    "    cls2.fit(X_train,y_train)\n",
    "    print(\"Training Score:%.2f\" % cls2.score(X_train,y_train))\n",
    "    print(\"Testing Score:%.2f\" % cls2.score(X_test,y_test))"
   ]
  },
  {
   "cell_type": "code",
   "execution_count": 58,
   "metadata": {},
   "outputs": [
    {
     "name": "stdout",
     "output_type": "stream",
     "text": [
      "Training Score:0.91\n",
      "Testing Score:0.91\n"
     ]
    }
   ],
   "source": [
    "X_train,X_test,y_train,y_test=load_data()\n",
    "test_MultinomialNB(X_train,X_test,y_train,y_test)"
   ]
  },
  {
   "cell_type": "markdown",
   "metadata": {},
   "source": [
    "## 3、伯努力贝叶斯分类器"
   ]
  },
  {
   "cell_type": "code",
   "execution_count": 59,
   "metadata": {
    "collapsed": true
   },
   "outputs": [],
   "source": [
    "def test_BernoulliNB(*data):\n",
    "    X_train,X_test,y_train,y_test=load_data()\n",
    "    cls2 = naive_bayes.BernoulliNB()\n",
    "    cls2.fit(X_train,y_train)\n",
    "    print(\"Training Score:%.2f\" % cls2.score(X_train,y_train))\n",
    "    print(\"Testing Score:%.2f\" % cls2.score(X_test,y_test))"
   ]
  },
  {
   "cell_type": "code",
   "execution_count": 60,
   "metadata": {},
   "outputs": [
    {
     "name": "stdout",
     "output_type": "stream",
     "text": [
      "Training Score:0.87\n",
      "Testing Score:0.85\n"
     ]
    }
   ],
   "source": [
    "X_train,X_test,y_train,y_test=load_data()\n",
    "test_BernoulliNB(X_train,X_test,y_train,y_test)"
   ]
  }
 ],
 "metadata": {
  "kernelspec": {
   "display_name": "Python 3",
   "language": "python",
   "name": "python3"
  },
  "language_info": {
   "codemirror_mode": {
    "name": "ipython",
    "version": 3
   },
   "file_extension": ".py",
   "mimetype": "text/x-python",
   "name": "python",
   "nbconvert_exporter": "python",
   "pygments_lexer": "ipython3",
   "version": "3.5.3"
  }
 },
 "nbformat": 4,
 "nbformat_minor": 2
}
