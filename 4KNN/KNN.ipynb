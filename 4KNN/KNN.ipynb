{
 "cells": [
  {
   "cell_type": "markdown",
   "metadata": {},
   "source": [
    "# K近邻法"
   ]
  },
  {
   "cell_type": "markdown",
   "metadata": {},
   "source": [
    "## 导入包"
   ]
  },
  {
   "cell_type": "code",
   "execution_count": 9,
   "metadata": {},
   "outputs": [],
   "source": [
    "import  numpy as np\n",
    "import matplotlib.pyplot as plt\n",
    "from sklearn import  neighbors,datasets,cross_validation"
   ]
  },
  {
   "cell_type": "markdown",
   "metadata": {},
   "source": [
    "## 加载数据"
   ]
  },
  {
   "cell_type": "code",
   "execution_count": 10,
   "metadata": {
    "collapsed": true
   },
   "outputs": [],
   "source": [
    "def load_classification_data():\n",
    "    digits = datasets.load_digits()\n",
    "    X_train= digits.data\n",
    "    y_train = digits.target\n",
    "    return cross_validation.train_test_split(X_train,y_train,test_size=0.25,random_state=0,stratify=y_train)"
   ]
  },
  {
   "cell_type": "code",
   "execution_count": 11,
   "metadata": {
    "collapsed": true
   },
   "outputs": [],
   "source": [
    "def create_regression_data():\n",
    "    n = 100\n",
    "    X = 5*np.random.rand(n,1)\n",
    "    y = np.sin(X).ravel()\n",
    "    y[::5] += 1*(0.5 - np.random.rand(int(n/5)))\n",
    "    return cross_validation.train_test_split(X,y,test_size=0.25,random_state=0)"
   ]
  },
  {
   "cell_type": "markdown",
   "metadata": {},
   "source": [
    "## KNN分类"
   ]
  },
  {
   "cell_type": "code",
   "execution_count": 12,
   "metadata": {
    "collapsed": true
   },
   "outputs": [],
   "source": [
    "def test_KNeighborClassifier(*data):\n",
    "    knn = neighbors.KNeighborsClassifier()  \n",
    "    #训练数据集  \n",
    "    knn.fit(X_train, y_train)\n",
    "    knn.kneighbors_graph(X_test,)\n",
    "    print(\"Training Score:%.2f\" % knn.score(X_train,y_train))\n",
    "    print(\"Testing Score:%.2f\" % knn.score(X_test,y_test))"
   ]
  },
  {
   "cell_type": "code",
   "execution_count": 13,
   "metadata": {},
   "outputs": [
    {
     "name": "stdout",
     "output_type": "stream",
     "text": [
      "Training Score:0.99\n",
      "Testing Score:0.98\n"
     ]
    }
   ],
   "source": [
    "X_train,X_test,y_train,y_test = load_classification_data()\n",
    "test_KNeighborClassifier(X_train,X_test,y_train,y_test)"
   ]
  },
  {
   "cell_type": "markdown",
   "metadata": {},
   "source": [
    "## KNN回归"
   ]
  },
  {
   "cell_type": "code",
   "execution_count": 14,
   "metadata": {
    "collapsed": true
   },
   "outputs": [],
   "source": [
    "def test_KNeighborClassifier(*data):\n",
    "    knn = neighbors.KNeighborsRegressor()  \n",
    "    #训练数据集  \n",
    "    knn.fit(X_train, y_train)\n",
    "    knn.kneighbors_graph(X_test,)\n",
    "    print(\"Training Score:%.2f\" % knn.score(X_train,y_train))\n",
    "    print(\"Testing Score:%.2f\" % knn.score(X_test,y_test))"
   ]
  },
  {
   "cell_type": "code",
   "execution_count": 15,
   "metadata": {},
   "outputs": [
    {
     "name": "stdout",
     "output_type": "stream",
     "text": [
      "Training Score:0.98\n",
      "Testing Score:0.95\n"
     ]
    }
   ],
   "source": [
    "X_train,X_test,y_train,y_test = load_classification_data()\n",
    "test_KNeighborClassifier(X_train,X_test,y_train,y_test)"
   ]
  },
  {
   "cell_type": "code",
   "execution_count": null,
   "metadata": {
    "collapsed": true
   },
   "outputs": [],
   "source": []
  }
 ],
 "metadata": {
  "kernelspec": {
   "display_name": "Python 3",
   "language": "python",
   "name": "python3"
  },
  "language_info": {
   "codemirror_mode": {
    "name": "ipython",
    "version": 3
   },
   "file_extension": ".py",
   "mimetype": "text/x-python",
   "name": "python",
   "nbconvert_exporter": "python",
   "pygments_lexer": "ipython3",
   "version": "3.5.3"
  }
 },
 "nbformat": 4,
 "nbformat_minor": 2
}
